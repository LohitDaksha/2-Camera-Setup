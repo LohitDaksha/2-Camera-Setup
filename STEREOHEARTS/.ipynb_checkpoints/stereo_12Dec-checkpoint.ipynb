{
 "cells": [
  {
   "cell_type": "code",
   "execution_count": 1,
   "metadata": {},
   "outputs": [],
   "source": [
    "import cv2\n",
    "import numpy as np\n",
    "import sys\n",
    "import pyrealsense2 as rs\n",
    "from rs_device_manager.realsense_device_manager import DeviceManager\n",
    "import mediapipe as mp"
   ]
  },
  {
   "cell_type": "code",
   "execution_count": 10,
   "metadata": {},
   "outputs": [],
   "source": [
    "mp_hands = mp.solutions.hands"
   ]
  },
  {
   "cell_type": "code",
   "execution_count": 2,
   "metadata": {},
   "outputs": [],
   "source": [
    "def show_images_wo_mp(frames_devices):\n",
    "\t\"\"\"\n",
    "\tParameters:\n",
    "\t-----------\n",
    "\tframes_devices : dict\n",
    "\t\tThe frames from the different devices\n",
    "\t\tkeys: Tuple of (serial, product-line)\n",
    "\t\t\tSerial number and product line of the device\n",
    "\t\tvalues: [frame]\n",
    "\t\t\tframe: rs.frame()\n",
    "\t\t\t\tThe frameset obtained over the active pipeline from the realsense device\n",
    "\t\t\t\t\n",
    "\t\"\"\"\n",
    "\tfor (device_info, frame) in frames_devices.items():\n",
    "\t\tdevice = device_info[0] #serial number\n",
    "\t\tcolor_image = np.asarray(frame[rs.stream.color].get_data())\n",
    "\t\tcv2.imshow('Color image from RealSense Device Nr: ' + device, color_image)\n",
    "\t\tcv2.waitKey(1)\n"
   ]
  },
  {
   "cell_type": "code",
   "execution_count": 16,
   "metadata": {},
   "outputs": [],
   "source": [
    "def show_images_with_mp(frames_devices, hands):\n",
    "\t\"\"\"\n",
    "\tParameters:\n",
    "\t-----------\n",
    "\tframes_devices : dict\n",
    "\t\tThe frames from the different devices\n",
    "\t\tkeys: Tuple of (serial, product-line)\n",
    "\t\t\tSerial number and product line of the device\n",
    "\t\tvalues: [frame]\n",
    "\t\t\tframe: rs.frame()\n",
    "\t\t\t\tThe frameset obtained over the active pipeline from the realsense device\n",
    "\t\t\t\t\n",
    "\t\"\"\"\n",
    "\tfor (device_info, frame) in frames_devices.items():\n",
    "\t\tdevice = device_info[0] #serial number\n",
    "\t\tcolor_image = np.asarray(frame[rs.stream.color].get_data())\n",
    "\t\tcolor_image.flags.writeable = False\n",
    "\t\thands.process(color_image)        \n",
    "\t\tcv2.imshow('Color image from RealSense Device Nr: ' + device, color_image)\n",
    "\t\tcv2.waitKey(1)\n"
   ]
  },
  {
   "cell_type": "code",
   "execution_count": 5,
   "metadata": {},
   "outputs": [],
   "source": [
    "resolution_width = 1280 # pixels\n",
    "resolution_height = 720 # pixels\n",
    "frame_rate = 15  # fps\n",
    "\n",
    "dispose_frames_for_stablisation = 30  # frames"
   ]
  },
  {
   "cell_type": "code",
   "execution_count": 6,
   "metadata": {},
   "outputs": [
    {
     "name": "stdout",
     "output_type": "stream",
     "text": [
      "2 devices have been found\n",
      "Enabled :('933322073505', 'D400')\n",
      "Enabled :('935322071845', 'D400')\n"
     ]
    }
   ],
   "source": [
    "left_camera_config = rs.config()\n",
    "left_camera_config.enable_stream(rs.stream.color, resolution_width, resolution_height, rs.format.bgr8, frame_rate)\n",
    "\n",
    "right_camera_config = rs.config()\n",
    "right_camera_config.enable_stream(rs.stream.color, resolution_width, resolution_height, rs.format.bgr8, frame_rate)\n",
    "\n",
    "\n",
    "# Use the device manager class to enable the devices and get the frames\n",
    "device_manager = DeviceManager(rs.context(), left_camera_config, right_camera_config)\n",
    "device_manager.enable_all_devices()"
   ]
  },
  {
   "cell_type": "code",
   "execution_count": 83,
   "metadata": {},
   "outputs": [],
   "source": [
    "#list(device_manager._available_devices.keys()) #devices enabled and connected"
   ]
  },
  {
   "cell_type": "code",
   "execution_count": 7,
   "metadata": {},
   "outputs": [],
   "source": [
    "assert( len(device_manager._available_devices) > 0 ) # at least one connected and enabled\n",
    "device_manager.enable_emitter(True)"
   ]
  },
  {
   "cell_type": "code",
   "execution_count": 85,
   "metadata": {},
   "outputs": [],
   "source": [
    "#device_manager.get_device_intrinsics(frames) # get intrinsic details of devices\n",
    "\n"
   ]
  },
  {
   "cell_type": "code",
   "execution_count": null,
   "metadata": {},
   "outputs": [],
   "source": []
  },
  {
   "cell_type": "code",
   "execution_count": 8,
   "metadata": {},
   "outputs": [],
   "source": [
    "device_manager.load_settings_json(\"./HighResHighAccuracyPreset.json\")"
   ]
  },
  {
   "cell_type": "code",
   "execution_count": 17,
   "metadata": {},
   "outputs": [
    {
     "name": "stdout",
     "output_type": "stream",
     "text": [
      "The program was interupted by the user. Closing the program...\n"
     ]
    }
   ],
   "source": [
    "with mp_hands.Hands(model_complexity=0,min_detection_confidence=0.5, min_tracking_confidence=0.5) as hands:\n",
    "\ttry:\n",
    "\t\twhile True:\n",
    "\t\t\t#Get stream from camera(s)\n",
    "\t\t\tframes_devices = device_manager.poll_frames()\n",
    "\t\t\t#SHOW THEM WHAT YOU GOT!#SHOW THEM WHAT YOU GOT!\n",
    "\t\t\t#show_images_wo_mp(frames_devices)\n",
    "\t\t\t#media pipe!!!\n",
    "\t\t\tshow_images_with_mp(frames_devices, hands)\n",
    "\n",
    "\texcept KeyboardInterrupt:\n",
    "\t\tprint(\"The program was interupted by the user. Closing the program...\")\n",
    "\tfinally:\n",
    "\t\tdevice_manager.disable_streams()\n",
    "\t\tcv2.destroyAllWindows()\n"
   ]
  },
  {
   "cell_type": "code",
   "execution_count": null,
   "metadata": {},
   "outputs": [],
   "source": []
  },
  {
   "cell_type": "code",
   "execution_count": null,
   "metadata": {},
   "outputs": [],
   "source": []
  },
  {
   "cell_type": "code",
   "execution_count": null,
   "metadata": {},
   "outputs": [],
   "source": []
  },
  {
   "cell_type": "code",
   "execution_count": null,
   "metadata": {},
   "outputs": [],
   "source": []
  },
  {
   "cell_type": "code",
   "execution_count": null,
   "metadata": {},
   "outputs": [],
   "source": []
  },
  {
   "cell_type": "code",
   "execution_count": null,
   "metadata": {},
   "outputs": [],
   "source": []
  }
 ],
 "metadata": {
  "kernelspec": {
   "display_name": "Python 3 (ipykernel)",
   "language": "python",
   "name": "python3"
  },
  "language_info": {
   "codemirror_mode": {
    "name": "ipython",
    "version": 3
   },
   "file_extension": ".py",
   "mimetype": "text/x-python",
   "name": "python",
   "nbconvert_exporter": "python",
   "pygments_lexer": "ipython3",
   "version": "3.7.9"
  }
 },
 "nbformat": 4,
 "nbformat_minor": 4
}
